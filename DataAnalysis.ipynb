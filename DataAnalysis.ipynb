{
 "cells": [
  {
   "cell_type": "code",
   "execution_count": 1,
   "id": "3dbca054-4f85-44f4-8366-ea90f0147d68",
   "metadata": {},
   "outputs": [],
   "source": [
    "import pandas as pd\n",
    "import numpy as np\n",
    "import matplotlib.pyplot as plt\n",
    "import seaborn as sns\n",
    "from sklearn import preprocessing"
   ]
  },
  {
   "cell_type": "code",
   "execution_count": 2,
   "id": "dd606a3c-a99d-4424-85dc-461f9e6efd0b",
   "metadata": {},
   "outputs": [],
   "source": [
    "appln_data = pd.read_csv('appln_data.csv')\n",
    "prev_appln_data = pd.read_csv('prev_appln_data.csv')\n"
   ]
  },
  {
   "cell_type": "markdown",
   "id": "19046642-bb1e-4200-bf0e-ae4d6a5a7223",
   "metadata": {},
   "source": [
    "### APPLICATION DATA"
   ]
  },
  {
   "cell_type": "code",
   "execution_count": 3,
   "id": "bee119ff-8adf-4b55-85d8-16e0b7cb3a1f",
   "metadata": {},
   "outputs": [
    {
     "data": {
      "text/plain": [
       "<bound method NDFrame.describe of         Unnamed: 0  SK_ID_CURR  TARGET NAME_CONTRACT_TYPE CODE_GENDER  \\\n",
       "0                0      100002       1         Cash loans           M   \n",
       "1                1      100003       0         Cash loans           F   \n",
       "2                2      100004       0    Revolving loans           M   \n",
       "3                3      100006       0         Cash loans           F   \n",
       "4                4      100007       0         Cash loans           M   \n",
       "...            ...         ...     ...                ...         ...   \n",
       "307506      307506      456251       0         Cash loans           M   \n",
       "307507      307507      456252       0         Cash loans           F   \n",
       "307508      307508      456253       0         Cash loans           F   \n",
       "307509      307509      456254       1         Cash loans           F   \n",
       "307510      307510      456255       0         Cash loans           F   \n",
       "\n",
       "       FLAG_OWN_CAR FLAG_OWN_REALTY  CNT_CHILDREN  AMT_INCOME_TOTAL  \\\n",
       "0                 N               Y             0          202500.0   \n",
       "1                 N               N             0          270000.0   \n",
       "2                 Y               Y             0           67500.0   \n",
       "3                 N               Y             0          135000.0   \n",
       "4                 N               Y             0          121500.0   \n",
       "...             ...             ...           ...               ...   \n",
       "307506            N               N             0          157500.0   \n",
       "307507            N               Y             0           72000.0   \n",
       "307508            N               Y             0          153000.0   \n",
       "307509            N               Y             0          171000.0   \n",
       "307510            N               N             0          157500.0   \n",
       "\n",
       "        AMT_CREDIT  ... FLAG_DOCUMENT_12 FLAG_DOCUMENT_13 FLAG_DOCUMENT_14  \\\n",
       "0         406597.5  ...                0                0                0   \n",
       "1        1293502.5  ...                0                0                0   \n",
       "2         135000.0  ...                0                0                0   \n",
       "3         312682.5  ...                0                0                0   \n",
       "4         513000.0  ...                0                0                0   \n",
       "...            ...  ...              ...              ...              ...   \n",
       "307506    254700.0  ...                0                0                0   \n",
       "307507    269550.0  ...                0                0                0   \n",
       "307508    677664.0  ...                0                0                0   \n",
       "307509    370107.0  ...                0                0                0   \n",
       "307510    675000.0  ...                0                0                0   \n",
       "\n",
       "       FLAG_DOCUMENT_15  FLAG_DOCUMENT_16  FLAG_DOCUMENT_17  FLAG_DOCUMENT_18  \\\n",
       "0                     0                 0                 0                 0   \n",
       "1                     0                 0                 0                 0   \n",
       "2                     0                 0                 0                 0   \n",
       "3                     0                 0                 0                 0   \n",
       "4                     0                 0                 0                 0   \n",
       "...                 ...               ...               ...               ...   \n",
       "307506                0                 0                 0                 0   \n",
       "307507                0                 0                 0                 0   \n",
       "307508                0                 0                 0                 0   \n",
       "307509                0                 0                 0                 0   \n",
       "307510                0                 0                 0                 0   \n",
       "\n",
       "        FLAG_DOCUMENT_19  FLAG_DOCUMENT_20  FLAG_DOCUMENT_21  \n",
       "0                      0                 0                 0  \n",
       "1                      0                 0                 0  \n",
       "2                      0                 0                 0  \n",
       "3                      0                 0                 0  \n",
       "4                      0                 0                 0  \n",
       "...                  ...               ...               ...  \n",
       "307506                 0                 0                 0  \n",
       "307507                 0                 0                 0  \n",
       "307508                 0                 0                 0  \n",
       "307509                 0                 0                 0  \n",
       "307510                 0                 0                 0  \n",
       "\n",
       "[307511 rows x 56 columns]>"
      ]
     },
     "execution_count": 3,
     "metadata": {},
     "output_type": "execute_result"
    }
   ],
   "source": [
    "appln_data.describe"
   ]
  },
  {
   "cell_type": "code",
   "execution_count": 4,
   "id": "34e4323e-2730-497a-bbeb-94b47793b8f7",
   "metadata": {},
   "outputs": [
    {
     "data": {
      "text/plain": [
       "Unnamed: 0                       int64\n",
       "SK_ID_CURR                       int64\n",
       "TARGET                           int64\n",
       "NAME_CONTRACT_TYPE              object\n",
       "CODE_GENDER                     object\n",
       "FLAG_OWN_CAR                    object\n",
       "FLAG_OWN_REALTY                 object\n",
       "CNT_CHILDREN                     int64\n",
       "AMT_INCOME_TOTAL               float64\n",
       "AMT_CREDIT                     float64\n",
       "NAME_INCOME_TYPE                object\n",
       "NAME_EDUCATION_TYPE             object\n",
       "NAME_FAMILY_STATUS              object\n",
       "NAME_HOUSING_TYPE               object\n",
       "REGION_POPULATION_RELATIVE     float64\n",
       "DAYS_BIRTH                       int64\n",
       "DAYS_EMPLOYED                    int64\n",
       "DAYS_REGISTRATION              float64\n",
       "DAYS_ID_PUBLISH                  int64\n",
       "FLAG_MOBIL                       int64\n",
       "FLAG_EMP_PHONE                   int64\n",
       "FLAG_WORK_PHONE                  int64\n",
       "FLAG_CONT_MOBILE                 int64\n",
       "FLAG_PHONE                       int64\n",
       "FLAG_EMAIL                       int64\n",
       "REGION_RATING_CLIENT             int64\n",
       "REGION_RATING_CLIENT_W_CITY      int64\n",
       "WEEKDAY_APPR_PROCESS_START      object\n",
       "HOUR_APPR_PROCESS_START          int64\n",
       "REG_REGION_NOT_LIVE_REGION       int64\n",
       "REG_REGION_NOT_WORK_REGION       int64\n",
       "LIVE_REGION_NOT_WORK_REGION      int64\n",
       "REG_CITY_NOT_LIVE_CITY           int64\n",
       "REG_CITY_NOT_WORK_CITY           int64\n",
       "LIVE_CITY_NOT_WORK_CITY          int64\n",
       "ORGANIZATION_TYPE               object\n",
       "FLAG_DOCUMENT_2                  int64\n",
       "FLAG_DOCUMENT_3                  int64\n",
       "FLAG_DOCUMENT_4                  int64\n",
       "FLAG_DOCUMENT_5                  int64\n",
       "FLAG_DOCUMENT_6                  int64\n",
       "FLAG_DOCUMENT_7                  int64\n",
       "FLAG_DOCUMENT_8                  int64\n",
       "FLAG_DOCUMENT_9                  int64\n",
       "FLAG_DOCUMENT_10                 int64\n",
       "FLAG_DOCUMENT_11                 int64\n",
       "FLAG_DOCUMENT_12                 int64\n",
       "FLAG_DOCUMENT_13                 int64\n",
       "FLAG_DOCUMENT_14                 int64\n",
       "FLAG_DOCUMENT_15                 int64\n",
       "FLAG_DOCUMENT_16                 int64\n",
       "FLAG_DOCUMENT_17                 int64\n",
       "FLAG_DOCUMENT_18                 int64\n",
       "FLAG_DOCUMENT_19                 int64\n",
       "FLAG_DOCUMENT_20                 int64\n",
       "FLAG_DOCUMENT_21                 int64\n",
       "dtype: object"
      ]
     },
     "execution_count": 4,
     "metadata": {},
     "output_type": "execute_result"
    }
   ],
   "source": [
    "appln_data.dtypes"
   ]
  },
  {
   "cell_type": "markdown",
   "id": "8100fdc8-58cb-4450-8333-21dfd591dbb5",
   "metadata": {},
   "source": [
    "#### Lets convert these object type variables to categorical variables | General Rule : N = 0 Y = 1"
   ]
  },
  {
   "cell_type": "code",
   "execution_count": 5,
   "id": "faa46a68-141e-4cc3-8ff3-e63ea30ad8ad",
   "metadata": {},
   "outputs": [
    {
     "data": {
      "text/plain": [
       "Cash loans         278232\n",
       "Revolving loans     29279\n",
       "Name: NAME_CONTRACT_TYPE, dtype: int64"
      ]
     },
     "execution_count": 5,
     "metadata": {},
     "output_type": "execute_result"
    }
   ],
   "source": [
    "appln_data['NAME_CONTRACT_TYPE'].value_counts()"
   ]
  },
  {
   "cell_type": "code",
   "execution_count": 6,
   "id": "ae2cb543-29c5-4c18-a969-74e60e12507e",
   "metadata": {},
   "outputs": [
    {
     "data": {
      "text/plain": [
       "Y    213312\n",
       "N     94199\n",
       "Name: FLAG_OWN_REALTY, dtype: int64"
      ]
     },
     "execution_count": 6,
     "metadata": {},
     "output_type": "execute_result"
    }
   ],
   "source": [
    "appln_data['FLAG_OWN_REALTY'].value_counts()"
   ]
  },
  {
   "cell_type": "code",
   "execution_count": 7,
   "id": "2834a9ab-0999-4b82-898d-e21243959de2",
   "metadata": {},
   "outputs": [
    {
     "data": {
      "text/plain": [
       "N    202924\n",
       "Y    104587\n",
       "Name: FLAG_OWN_CAR, dtype: int64"
      ]
     },
     "execution_count": 7,
     "metadata": {},
     "output_type": "execute_result"
    }
   ],
   "source": [
    "appln_data['FLAG_OWN_CAR'].value_counts()"
   ]
  },
  {
   "cell_type": "code",
   "execution_count": 8,
   "id": "68aac76c-e061-4f7b-9abd-85746b7bbed4",
   "metadata": {},
   "outputs": [
    {
     "data": {
      "text/plain": [
       "F      202448\n",
       "M      105059\n",
       "XNA         4\n",
       "Name: CODE_GENDER, dtype: int64"
      ]
     },
     "execution_count": 8,
     "metadata": {},
     "output_type": "execute_result"
    }
   ],
   "source": [
    "appln_data['CODE_GENDER'].value_counts()"
   ]
  },
  {
   "cell_type": "code",
   "execution_count": 9,
   "id": "3a2558c9-4248-47ce-a294-3e4acf1b3f73",
   "metadata": {},
   "outputs": [],
   "source": [
    "def encoder(df,col_name):\n",
    "    enc = preprocessing.LabelEncoder()\n",
    "    df[col_name] = enc.fit_transform(df[col_name])"
   ]
  },
  {
   "cell_type": "code",
   "execution_count": 10,
   "id": "057b5a73-681e-4f37-b329-aeb85f489268",
   "metadata": {},
   "outputs": [
    {
     "data": {
      "text/html": [
       "<div>\n",
       "<style scoped>\n",
       "    .dataframe tbody tr th:only-of-type {\n",
       "        vertical-align: middle;\n",
       "    }\n",
       "\n",
       "    .dataframe tbody tr th {\n",
       "        vertical-align: top;\n",
       "    }\n",
       "\n",
       "    .dataframe thead th {\n",
       "        text-align: right;\n",
       "    }\n",
       "</style>\n",
       "<table border=\"1\" class=\"dataframe\">\n",
       "  <thead>\n",
       "    <tr style=\"text-align: right;\">\n",
       "      <th></th>\n",
       "      <th>Unnamed: 0</th>\n",
       "      <th>SK_ID_CURR</th>\n",
       "      <th>TARGET</th>\n",
       "      <th>NAME_CONTRACT_TYPE</th>\n",
       "      <th>CODE_GENDER</th>\n",
       "      <th>FLAG_OWN_CAR</th>\n",
       "      <th>FLAG_OWN_REALTY</th>\n",
       "      <th>CNT_CHILDREN</th>\n",
       "      <th>AMT_INCOME_TOTAL</th>\n",
       "      <th>AMT_CREDIT</th>\n",
       "      <th>...</th>\n",
       "      <th>FLAG_DOCUMENT_12</th>\n",
       "      <th>FLAG_DOCUMENT_13</th>\n",
       "      <th>FLAG_DOCUMENT_14</th>\n",
       "      <th>FLAG_DOCUMENT_15</th>\n",
       "      <th>FLAG_DOCUMENT_16</th>\n",
       "      <th>FLAG_DOCUMENT_17</th>\n",
       "      <th>FLAG_DOCUMENT_18</th>\n",
       "      <th>FLAG_DOCUMENT_19</th>\n",
       "      <th>FLAG_DOCUMENT_20</th>\n",
       "      <th>FLAG_DOCUMENT_21</th>\n",
       "    </tr>\n",
       "  </thead>\n",
       "  <tbody>\n",
       "    <tr>\n",
       "      <th>0</th>\n",
       "      <td>0</td>\n",
       "      <td>100002</td>\n",
       "      <td>1</td>\n",
       "      <td>0</td>\n",
       "      <td>1</td>\n",
       "      <td>0</td>\n",
       "      <td>1</td>\n",
       "      <td>0</td>\n",
       "      <td>202500.0</td>\n",
       "      <td>406597.5</td>\n",
       "      <td>...</td>\n",
       "      <td>0</td>\n",
       "      <td>0</td>\n",
       "      <td>0</td>\n",
       "      <td>0</td>\n",
       "      <td>0</td>\n",
       "      <td>0</td>\n",
       "      <td>0</td>\n",
       "      <td>0</td>\n",
       "      <td>0</td>\n",
       "      <td>0</td>\n",
       "    </tr>\n",
       "    <tr>\n",
       "      <th>1</th>\n",
       "      <td>1</td>\n",
       "      <td>100003</td>\n",
       "      <td>0</td>\n",
       "      <td>0</td>\n",
       "      <td>0</td>\n",
       "      <td>0</td>\n",
       "      <td>0</td>\n",
       "      <td>0</td>\n",
       "      <td>270000.0</td>\n",
       "      <td>1293502.5</td>\n",
       "      <td>...</td>\n",
       "      <td>0</td>\n",
       "      <td>0</td>\n",
       "      <td>0</td>\n",
       "      <td>0</td>\n",
       "      <td>0</td>\n",
       "      <td>0</td>\n",
       "      <td>0</td>\n",
       "      <td>0</td>\n",
       "      <td>0</td>\n",
       "      <td>0</td>\n",
       "    </tr>\n",
       "    <tr>\n",
       "      <th>2</th>\n",
       "      <td>2</td>\n",
       "      <td>100004</td>\n",
       "      <td>0</td>\n",
       "      <td>1</td>\n",
       "      <td>1</td>\n",
       "      <td>1</td>\n",
       "      <td>1</td>\n",
       "      <td>0</td>\n",
       "      <td>67500.0</td>\n",
       "      <td>135000.0</td>\n",
       "      <td>...</td>\n",
       "      <td>0</td>\n",
       "      <td>0</td>\n",
       "      <td>0</td>\n",
       "      <td>0</td>\n",
       "      <td>0</td>\n",
       "      <td>0</td>\n",
       "      <td>0</td>\n",
       "      <td>0</td>\n",
       "      <td>0</td>\n",
       "      <td>0</td>\n",
       "    </tr>\n",
       "    <tr>\n",
       "      <th>3</th>\n",
       "      <td>3</td>\n",
       "      <td>100006</td>\n",
       "      <td>0</td>\n",
       "      <td>0</td>\n",
       "      <td>0</td>\n",
       "      <td>0</td>\n",
       "      <td>1</td>\n",
       "      <td>0</td>\n",
       "      <td>135000.0</td>\n",
       "      <td>312682.5</td>\n",
       "      <td>...</td>\n",
       "      <td>0</td>\n",
       "      <td>0</td>\n",
       "      <td>0</td>\n",
       "      <td>0</td>\n",
       "      <td>0</td>\n",
       "      <td>0</td>\n",
       "      <td>0</td>\n",
       "      <td>0</td>\n",
       "      <td>0</td>\n",
       "      <td>0</td>\n",
       "    </tr>\n",
       "    <tr>\n",
       "      <th>4</th>\n",
       "      <td>4</td>\n",
       "      <td>100007</td>\n",
       "      <td>0</td>\n",
       "      <td>0</td>\n",
       "      <td>1</td>\n",
       "      <td>0</td>\n",
       "      <td>1</td>\n",
       "      <td>0</td>\n",
       "      <td>121500.0</td>\n",
       "      <td>513000.0</td>\n",
       "      <td>...</td>\n",
       "      <td>0</td>\n",
       "      <td>0</td>\n",
       "      <td>0</td>\n",
       "      <td>0</td>\n",
       "      <td>0</td>\n",
       "      <td>0</td>\n",
       "      <td>0</td>\n",
       "      <td>0</td>\n",
       "      <td>0</td>\n",
       "      <td>0</td>\n",
       "    </tr>\n",
       "  </tbody>\n",
       "</table>\n",
       "<p>5 rows × 56 columns</p>\n",
       "</div>"
      ],
      "text/plain": [
       "   Unnamed: 0  SK_ID_CURR  TARGET  NAME_CONTRACT_TYPE  CODE_GENDER  \\\n",
       "0           0      100002       1                   0            1   \n",
       "1           1      100003       0                   0            0   \n",
       "2           2      100004       0                   1            1   \n",
       "3           3      100006       0                   0            0   \n",
       "4           4      100007       0                   0            1   \n",
       "\n",
       "   FLAG_OWN_CAR  FLAG_OWN_REALTY  CNT_CHILDREN  AMT_INCOME_TOTAL  AMT_CREDIT  \\\n",
       "0             0                1             0          202500.0    406597.5   \n",
       "1             0                0             0          270000.0   1293502.5   \n",
       "2             1                1             0           67500.0    135000.0   \n",
       "3             0                1             0          135000.0    312682.5   \n",
       "4             0                1             0          121500.0    513000.0   \n",
       "\n",
       "   ...  FLAG_DOCUMENT_12  FLAG_DOCUMENT_13  FLAG_DOCUMENT_14  \\\n",
       "0  ...                 0                 0                 0   \n",
       "1  ...                 0                 0                 0   \n",
       "2  ...                 0                 0                 0   \n",
       "3  ...                 0                 0                 0   \n",
       "4  ...                 0                 0                 0   \n",
       "\n",
       "   FLAG_DOCUMENT_15  FLAG_DOCUMENT_16  FLAG_DOCUMENT_17  FLAG_DOCUMENT_18  \\\n",
       "0                 0                 0                 0                 0   \n",
       "1                 0                 0                 0                 0   \n",
       "2                 0                 0                 0                 0   \n",
       "3                 0                 0                 0                 0   \n",
       "4                 0                 0                 0                 0   \n",
       "\n",
       "   FLAG_DOCUMENT_19  FLAG_DOCUMENT_20  FLAG_DOCUMENT_21  \n",
       "0                 0                 0                 0  \n",
       "1                 0                 0                 0  \n",
       "2                 0                 0                 0  \n",
       "3                 0                 0                 0  \n",
       "4                 0                 0                 0  \n",
       "\n",
       "[5 rows x 56 columns]"
      ]
     },
     "execution_count": 10,
     "metadata": {},
     "output_type": "execute_result"
    }
   ],
   "source": [
    "encoder(appln_data, 'NAME_CONTRACT_TYPE')\n",
    "encoder(appln_data, 'FLAG_OWN_REALTY')\n",
    "encoder(appln_data, 'FLAG_OWN_CAR')\n",
    "encoder(appln_data, 'CODE_GENDER')\n",
    "encoder(appln_data, 'NAME_CONTRACT_TYPE')\n",
    "encoder(appln_data, 'NAME_INCOME_TYPE')\n",
    "encoder(appln_data, 'NAME_EDUCATION_TYPE')\n",
    "encoder(appln_data, 'NAME_FAMILY_STATUS')\n",
    "encoder(appln_data, 'NAME_HOUSING_TYPE')\n",
    "encoder(appln_data, 'WEEKDAY_APPR_PROCESS_START')\n",
    "encoder(appln_data, 'ORGANIZATION_TYPE')\n",
    "\n",
    "# Lets check the columns converted to categorical columns.\n",
    "appln_data.head()"
   ]
  },
  {
   "cell_type": "code",
   "execution_count": 11,
   "id": "d177270e-f3e6-4480-b789-7a3ee4996ab1",
   "metadata": {},
   "outputs": [
    {
     "data": {
      "text/plain": [
       "Unnamed: 0                       int64\n",
       "SK_ID_CURR                       int64\n",
       "TARGET                           int64\n",
       "NAME_CONTRACT_TYPE               int64\n",
       "CODE_GENDER                      int32\n",
       "FLAG_OWN_CAR                     int32\n",
       "FLAG_OWN_REALTY                  int32\n",
       "CNT_CHILDREN                     int64\n",
       "AMT_INCOME_TOTAL               float64\n",
       "AMT_CREDIT                     float64\n",
       "NAME_INCOME_TYPE                 int32\n",
       "NAME_EDUCATION_TYPE              int32\n",
       "NAME_FAMILY_STATUS               int32\n",
       "NAME_HOUSING_TYPE                int32\n",
       "REGION_POPULATION_RELATIVE     float64\n",
       "DAYS_BIRTH                       int64\n",
       "DAYS_EMPLOYED                    int64\n",
       "DAYS_REGISTRATION              float64\n",
       "DAYS_ID_PUBLISH                  int64\n",
       "FLAG_MOBIL                       int64\n",
       "FLAG_EMP_PHONE                   int64\n",
       "FLAG_WORK_PHONE                  int64\n",
       "FLAG_CONT_MOBILE                 int64\n",
       "FLAG_PHONE                       int64\n",
       "FLAG_EMAIL                       int64\n",
       "REGION_RATING_CLIENT             int64\n",
       "REGION_RATING_CLIENT_W_CITY      int64\n",
       "WEEKDAY_APPR_PROCESS_START       int32\n",
       "HOUR_APPR_PROCESS_START          int64\n",
       "REG_REGION_NOT_LIVE_REGION       int64\n",
       "REG_REGION_NOT_WORK_REGION       int64\n",
       "LIVE_REGION_NOT_WORK_REGION      int64\n",
       "REG_CITY_NOT_LIVE_CITY           int64\n",
       "REG_CITY_NOT_WORK_CITY           int64\n",
       "LIVE_CITY_NOT_WORK_CITY          int64\n",
       "ORGANIZATION_TYPE                int32\n",
       "FLAG_DOCUMENT_2                  int64\n",
       "FLAG_DOCUMENT_3                  int64\n",
       "FLAG_DOCUMENT_4                  int64\n",
       "FLAG_DOCUMENT_5                  int64\n",
       "FLAG_DOCUMENT_6                  int64\n",
       "FLAG_DOCUMENT_7                  int64\n",
       "FLAG_DOCUMENT_8                  int64\n",
       "FLAG_DOCUMENT_9                  int64\n",
       "FLAG_DOCUMENT_10                 int64\n",
       "FLAG_DOCUMENT_11                 int64\n",
       "FLAG_DOCUMENT_12                 int64\n",
       "FLAG_DOCUMENT_13                 int64\n",
       "FLAG_DOCUMENT_14                 int64\n",
       "FLAG_DOCUMENT_15                 int64\n",
       "FLAG_DOCUMENT_16                 int64\n",
       "FLAG_DOCUMENT_17                 int64\n",
       "FLAG_DOCUMENT_18                 int64\n",
       "FLAG_DOCUMENT_19                 int64\n",
       "FLAG_DOCUMENT_20                 int64\n",
       "FLAG_DOCUMENT_21                 int64\n",
       "dtype: object"
      ]
     },
     "execution_count": 11,
     "metadata": {},
     "output_type": "execute_result"
    }
   ],
   "source": [
    "appln_data.dtypes"
   ]
  },
  {
   "cell_type": "code",
   "execution_count": 12,
   "id": "b6a8c0df-ab71-44fd-9e6a-4bb1a4076b77",
   "metadata": {},
   "outputs": [
    {
     "data": {
      "image/png": "[encoded data removed]",
      "text/plain": [
       "<Figure size 432x288 with 1 Axes>"
      ]
     },
     "metadata": {
      "needs_background": "light"
     },
     "output_type": "display_data"
    }
   ],
   "source": [
    "# Check why the data is negative\n",
    "sns.boxplot(y=appln_data['DAYS_REGISTRATION'])\n",
    "plt.show()"
   ]
  },
  {
   "cell_type": "code",
   "execution_count": 13,
   "id": "1ed886fc-5e1a-4eb9-8fdf-269087e9641e",
   "metadata": {},
   "outputs": [
    {
     "data": {
      "text/plain": [
       "0        -3648.0\n",
       "1        -1186.0\n",
       "2        -4260.0\n",
       "3        -9833.0\n",
       "4        -4311.0\n",
       "           ...  \n",
       "307506   -8456.0\n",
       "307507   -4388.0\n",
       "307508   -6737.0\n",
       "307509   -2562.0\n",
       "307510   -5128.0\n",
       "Name: DAYS_REGISTRATION, Length: 307511, dtype: float64"
      ]
     },
     "execution_count": 13,
     "metadata": {},
     "output_type": "execute_result"
    }
   ],
   "source": [
    "appln_data['DAYS_REGISTRATION']"
   ]
  },
  {
   "cell_type": "markdown",
   "id": "fcd670a8-26c6-4b05-b3b8-5388de3f9317",
   "metadata": {},
   "source": [
    "appln_data['DAYS_REGISTRATION'] signifies how many days before the application did client change his registration. We can convert this to absolute integer values safely."
   ]
  },
  {
   "cell_type": "code",
   "execution_count": 14,
   "id": "a317c788-6865-4f1c-b9fd-5a14ad0d0314",
   "metadata": {},
   "outputs": [],
   "source": [
    "appln_data['DAYS_REGISTRATION'] = abs(appln_data['DAYS_REGISTRATION']).astype(int)"
   ]
  },
  {
   "cell_type": "code",
   "execution_count": 15,
   "id": "04240e3b-0674-456e-8e4a-5ab3e47660cc",
   "metadata": {},
   "outputs": [
    {
     "data": {
      "image/png": "[encoded data removed]",
      "text/plain": [
       "<Figure size 432x288 with 1 Axes>"
      ]
     },
     "metadata": {
      "needs_background": "light"
     },
     "output_type": "display_data"
    }
   ],
   "source": [
    "sns.boxplot(y=appln_data['DAYS_REGISTRATION'])\n",
    "plt.show()"
   ]
  },
  {
   "cell_type": "markdown",
   "id": "7a7e6da0-b980-4980-8660-d258011a7188",
   "metadata": {},
   "source": [
    "### PREVIOUS APPLICATION DATA"
   ]
  },
  {
   "cell_type": "code",
   "execution_count": 16,
   "id": "22ad6cda-167a-4660-ac6f-39bf90816c0b",
   "metadata": {},
   "outputs": [
    {
     "data": {
      "text/plain": [
       "<bound method NDFrame.describe of          Unnamed: 0  SK_ID_PREV  SK_ID_CURR NAME_CONTRACT_TYPE  \\\n",
       "0                 0     2030495      271877     Consumer loans   \n",
       "1                 1     2802425      108129         Cash loans   \n",
       "2                 2     2523466      122040         Cash loans   \n",
       "3                 3     2819243      176158         Cash loans   \n",
       "4                 4     1784265      202054         Cash loans   \n",
       "...             ...         ...         ...                ...   \n",
       "1670209     1670209     2300464      352015     Consumer loans   \n",
       "1670210     1670210     2357031      334635     Consumer loans   \n",
       "1670211     1670211     2659632      249544     Consumer loans   \n",
       "1670212     1670212     2785582      400317         Cash loans   \n",
       "1670213     1670213     2418762      261212         Cash loans   \n",
       "\n",
       "         AMT_APPLICATION WEEKDAY_APPR_PROCESS_START  HOUR_APPR_PROCESS_START  \\\n",
       "0                17145.0                   SATURDAY                       15   \n",
       "1               607500.0                   THURSDAY                       11   \n",
       "2               112500.0                    TUESDAY                       11   \n",
       "3               450000.0                     MONDAY                        7   \n",
       "4               337500.0                   THURSDAY                        9   \n",
       "...                  ...                        ...                      ...   \n",
       "1670209         267295.5                  WEDNESDAY                       12   \n",
       "1670210          87750.0                    TUESDAY                       15   \n",
       "1670211         105237.0                     MONDAY                       12   \n",
       "1670212         180000.0                  WEDNESDAY                        9   \n",
       "1670213         360000.0                     SUNDAY                       10   \n",
       "\n",
       "        FLAG_LAST_APPL_PER_CONTRACT  NFLAG_LAST_APPL_IN_DAY  \\\n",
       "0                                 Y                       1   \n",
       "1                                 Y                       1   \n",
       "2                                 Y                       1   \n",
       "3                                 Y                       1   \n",
       "4                                 Y                       1   \n",
       "...                             ...                     ...   \n",
       "1670209                           Y                       1   \n",
       "1670210                           Y                       1   \n",
       "1670211                           Y                       1   \n",
       "1670212                           Y                       1   \n",
       "1670213                           Y                       1   \n",
       "\n",
       "        NAME_CASH_LOAN_PURPOSE  ...      NAME_PAYMENT_TYPE  \\\n",
       "0                          XAP  ...  Cash through the bank   \n",
       "1                          XNA  ...                    XNA   \n",
       "2                          XNA  ...  Cash through the bank   \n",
       "3                          XNA  ...  Cash through the bank   \n",
       "4                      Repairs  ...  Cash through the bank   \n",
       "...                        ...  ...                    ...   \n",
       "1670209                    XAP  ...  Cash through the bank   \n",
       "1670210                    XAP  ...  Cash through the bank   \n",
       "1670211                    XAP  ...  Cash through the bank   \n",
       "1670212                    XNA  ...  Cash through the bank   \n",
       "1670213                    XNA  ...  Cash through the bank   \n",
       "\n",
       "         CODE_REJECT_REASON NAME_CLIENT_TYPE   NAME_GOODS_CATEGORY  \\\n",
       "0                       XAP         Repeater                Mobile   \n",
       "1                       XAP         Repeater                   XNA   \n",
       "2                       XAP         Repeater                   XNA   \n",
       "3                       XAP         Repeater                   XNA   \n",
       "4                        HC         Repeater                   XNA   \n",
       "...                     ...              ...                   ...   \n",
       "1670209                 XAP        Refreshed             Furniture   \n",
       "1670210                 XAP              New             Furniture   \n",
       "1670211                 XAP         Repeater  Consumer Electronics   \n",
       "1670212                 XAP         Repeater                   XNA   \n",
       "1670213                 XAP         Repeater                   XNA   \n",
       "\n",
       "        NAME_PORTFOLIO NAME_PRODUCT_TYPE             CHANNEL_TYPE  \\\n",
       "0                  POS               XNA             Country-wide   \n",
       "1                 Cash            x-sell           Contact center   \n",
       "2                 Cash            x-sell  Credit and cash offices   \n",
       "3                 Cash            x-sell  Credit and cash offices   \n",
       "4                 Cash           walk-in  Credit and cash offices   \n",
       "...                ...               ...                      ...   \n",
       "1670209            POS               XNA                    Stone   \n",
       "1670210            POS               XNA                    Stone   \n",
       "1670211            POS               XNA             Country-wide   \n",
       "1670212           Cash            x-sell          AP+ (Cash loan)   \n",
       "1670213           Cash            x-sell          AP+ (Cash loan)   \n",
       "\n",
       "        SELLERPLACE_AREA  NAME_SELLER_INDUSTRY  NAME_YIELD_GROUP  \n",
       "0                     35          Connectivity            middle  \n",
       "1                     -1                   XNA        low_action  \n",
       "2                     -1                   XNA              high  \n",
       "3                     -1                   XNA            middle  \n",
       "4                     -1                   XNA              high  \n",
       "...                  ...                   ...               ...  \n",
       "1670209               43             Furniture        low_normal  \n",
       "1670210               43             Furniture            middle  \n",
       "1670211             1370  Consumer electronics        low_normal  \n",
       "1670212               -1                   XNA        low_normal  \n",
       "1670213               -1                   XNA            middle  \n",
       "\n",
       "[1670214 rows x 22 columns]>"
      ]
     },
     "execution_count": 16,
     "metadata": {},
     "output_type": "execute_result"
    }
   ],
   "source": [
    "prev_appln_data.describe"
   ]
  },
  {
   "cell_type": "code",
   "execution_count": 17,
   "id": "196c9596-062f-4cf5-a893-1d1b94c2151c",
   "metadata": {},
   "outputs": [
    {
     "data": {
      "text/plain": [
       "Unnamed: 0                       int64\n",
       "SK_ID_PREV                       int64\n",
       "SK_ID_CURR                       int64\n",
       "NAME_CONTRACT_TYPE              object\n",
       "AMT_APPLICATION                float64\n",
       "WEEKDAY_APPR_PROCESS_START      object\n",
       "HOUR_APPR_PROCESS_START          int64\n",
       "FLAG_LAST_APPL_PER_CONTRACT     object\n",
       "NFLAG_LAST_APPL_IN_DAY           int64\n",
       "NAME_CASH_LOAN_PURPOSE          object\n",
       "NAME_CONTRACT_STATUS            object\n",
       "DAYS_DECISION                    int64\n",
       "NAME_PAYMENT_TYPE               object\n",
       "CODE_REJECT_REASON              object\n",
       "NAME_CLIENT_TYPE                object\n",
       "NAME_GOODS_CATEGORY             object\n",
       "NAME_PORTFOLIO                  object\n",
       "NAME_PRODUCT_TYPE               object\n",
       "CHANNEL_TYPE                    object\n",
       "SELLERPLACE_AREA                 int64\n",
       "NAME_SELLER_INDUSTRY            object\n",
       "NAME_YIELD_GROUP                object\n",
       "dtype: object"
      ]
     },
     "execution_count": 17,
     "metadata": {},
     "output_type": "execute_result"
    }
   ],
   "source": [
    "prev_appln_data.dtypes"
   ]
  },
  {
   "cell_type": "code",
   "execution_count": 18,
   "id": "9f4eb056-e2a6-4015-ab01-4eebfdbb1b9a",
   "metadata": {},
   "outputs": [
    {
     "data": {
      "text/plain": [
       "Y    1661739\n",
       "N       8475\n",
       "Name: FLAG_LAST_APPL_PER_CONTRACT, dtype: int64"
      ]
     },
     "execution_count": 18,
     "metadata": {},
     "output_type": "execute_result"
    }
   ],
   "source": [
    "prev_appln_data['FLAG_LAST_APPL_PER_CONTRACT'].value_counts()"
   ]
  },
  {
   "cell_type": "code",
   "execution_count": 19,
   "id": "c7ffbea7-d119-415b-b151-2710bfc81a05",
   "metadata": {},
   "outputs": [
    {
     "data": {
      "text/plain": [
       "Cash loans         747553\n",
       "Consumer loans     729151\n",
       "Revolving loans    193164\n",
       "XNA                   346\n",
       "Name: NAME_CONTRACT_TYPE, dtype: int64"
      ]
     },
     "execution_count": 19,
     "metadata": {},
     "output_type": "execute_result"
    }
   ],
   "source": [
    "prev_appln_data['NAME_CONTRACT_TYPE'].value_counts()"
   ]
  },
  {
   "cell_type": "code",
   "execution_count": 20,
   "id": "435e4bda-9ea1-46d2-912d-d3db8d6991ca",
   "metadata": {},
   "outputs": [
    {
     "data": {
      "text/plain": [
       "TUESDAY      255118\n",
       "WEDNESDAY    255010\n",
       "MONDAY       253557\n",
       "FRIDAY       252048\n",
       "THURSDAY     249099\n",
       "SATURDAY     240631\n",
       "SUNDAY       164751\n",
       "Name: WEEKDAY_APPR_PROCESS_START, dtype: int64"
      ]
     },
     "execution_count": 20,
     "metadata": {},
     "output_type": "execute_result"
    }
   ],
   "source": [
    "prev_appln_data['WEEKDAY_APPR_PROCESS_START'].value_counts()"
   ]
  },
  {
   "cell_type": "code",
   "execution_count": 21,
   "id": "f0ee25ef-060c-419a-a2ec-e75541273cdc",
   "metadata": {},
   "outputs": [
    {
     "data": {
      "text/plain": [
       "XAP                                 922661\n",
       "XNA                                 677918\n",
       "Repairs                              23765\n",
       "Other                                15608\n",
       "Urgent needs                          8412\n",
       "Buying a used car                     2888\n",
       "Building a house or an annex          2693\n",
       "Everyday expenses                     2416\n",
       "Medicine                              2174\n",
       "Payments on other loans               1931\n",
       "Education                             1573\n",
       "Journey                               1239\n",
       "Purchase of electronic equipment      1061\n",
       "Buying a new car                      1012\n",
       "Wedding / gift / holiday               962\n",
       "Buying a home                          865\n",
       "Car repairs                            797\n",
       "Furniture                              749\n",
       "Buying a holiday home / land           533\n",
       "Business development                   426\n",
       "Gasification / water supply            300\n",
       "Buying a garage                        136\n",
       "Hobby                                   55\n",
       "Money for a third person                25\n",
       "Refusal to name the goal                15\n",
       "Name: NAME_CASH_LOAN_PURPOSE, dtype: int64"
      ]
     },
     "execution_count": 21,
     "metadata": {},
     "output_type": "execute_result"
    }
   ],
   "source": [
    "prev_appln_data['NAME_CASH_LOAN_PURPOSE'].value_counts()"
   ]
  },
  {
   "cell_type": "code",
   "execution_count": 22,
   "id": "21a76a96-5b86-4246-9560-c68d31f6fa5a",
   "metadata": {},
   "outputs": [
    {
     "data": {
      "text/plain": [
       "Approved        1036781\n",
       "Canceled         316319\n",
       "Refused          290678\n",
       "Unused offer      26436\n",
       "Name: NAME_CONTRACT_STATUS, dtype: int64"
      ]
     },
     "execution_count": 22,
     "metadata": {},
     "output_type": "execute_result"
    }
   ],
   "source": [
    "prev_appln_data['NAME_CONTRACT_STATUS'].value_counts()"
   ]
  },
  {
   "cell_type": "code",
   "execution_count": 23,
   "id": "03dc137a-76da-4d76-a3fa-73fa123e3b86",
   "metadata": {},
   "outputs": [
    {
     "data": {
      "text/plain": [
       "Cash through the bank                        1033552\n",
       "XNA                                           627384\n",
       "Non-cash from your account                      8193\n",
       "Cashless from the account of the employer       1085\n",
       "Name: NAME_PAYMENT_TYPE, dtype: int64"
      ]
     },
     "execution_count": 23,
     "metadata": {},
     "output_type": "execute_result"
    }
   ],
   "source": [
    "prev_appln_data['NAME_PAYMENT_TYPE'].value_counts()"
   ]
  },
  {
   "cell_type": "code",
   "execution_count": 24,
   "id": "5b1e410b-81d5-463d-8c89-e141e6d8ff35",
   "metadata": {},
   "outputs": [
    {
     "data": {
      "text/plain": [
       "XAP       1353093\n",
       "HC         175231\n",
       "LIMIT       55680\n",
       "SCO         37467\n",
       "CLIENT      26436\n",
       "SCOFR       12811\n",
       "XNA          5244\n",
       "VERIF        3535\n",
       "SYSTEM        717\n",
       "Name: CODE_REJECT_REASON, dtype: int64"
      ]
     },
     "execution_count": 24,
     "metadata": {},
     "output_type": "execute_result"
    }
   ],
   "source": [
    "prev_appln_data['CODE_REJECT_REASON'].value_counts()"
   ]
  },
  {
   "cell_type": "code",
   "execution_count": 25,
   "id": "45aae6b3-0607-4ccc-947d-f1e59879ecfb",
   "metadata": {},
   "outputs": [
    {
     "data": {
      "text/plain": [
       "Repeater     1231261\n",
       "New           301363\n",
       "Refreshed     135649\n",
       "XNA             1941\n",
       "Name: NAME_CLIENT_TYPE, dtype: int64"
      ]
     },
     "execution_count": 25,
     "metadata": {},
     "output_type": "execute_result"
    }
   ],
   "source": [
    "prev_appln_data['NAME_CLIENT_TYPE'].value_counts()"
   ]
  },
  {
   "cell_type": "code",
   "execution_count": 26,
   "id": "7252607d-9d83-4108-a00e-a503809dfdad",
   "metadata": {},
   "outputs": [
    {
     "data": {
      "text/plain": [
       "XNA                         950809\n",
       "Mobile                      224708\n",
       "Consumer Electronics        121576\n",
       "Computers                   105769\n",
       "Audio/Video                  99441\n",
       "Furniture                    53656\n",
       "Photo / Cinema Equipment     25021\n",
       "Construction Materials       24995\n",
       "Clothing and Accessories     23554\n",
       "Auto Accessories              7381\n",
       "Jewelry                       6290\n",
       "Homewares                     5023\n",
       "Medical Supplies              3843\n",
       "Vehicles                      3370\n",
       "Sport and Leisure             2981\n",
       "Gardening                     2668\n",
       "Other                         2554\n",
       "Office Appliances             2333\n",
       "Tourism                       1659\n",
       "Medicine                      1550\n",
       "Direct Sales                   446\n",
       "Fitness                        209\n",
       "Additional Service             128\n",
       "Education                      107\n",
       "Weapon                          77\n",
       "Insurance                       64\n",
       "Animals                          1\n",
       "House Construction               1\n",
       "Name: NAME_GOODS_CATEGORY, dtype: int64"
      ]
     },
     "execution_count": 26,
     "metadata": {},
     "output_type": "execute_result"
    }
   ],
   "source": [
    "prev_appln_data['NAME_GOODS_CATEGORY'].value_counts()"
   ]
  },
  {
   "cell_type": "code",
   "execution_count": 27,
   "id": "9ba945c7-a692-47cd-af8c-56931c6330dd",
   "metadata": {},
   "outputs": [
    {
     "data": {
      "text/plain": [
       "POS      691011\n",
       "Cash     461563\n",
       "XNA      372230\n",
       "Cards    144985\n",
       "Cars        425\n",
       "Name: NAME_PORTFOLIO, dtype: int64"
      ]
     },
     "execution_count": 27,
     "metadata": {},
     "output_type": "execute_result"
    }
   ],
   "source": [
    "prev_appln_data['NAME_PORTFOLIO'].value_counts()"
   ]
  },
  {
   "cell_type": "code",
   "execution_count": 28,
   "id": "80b8f659-cf4e-4e1a-81f1-51263d4a27ed",
   "metadata": {},
   "outputs": [
    {
     "data": {
      "text/plain": [
       "XNA        1063666\n",
       "x-sell      456287\n",
       "walk-in     150261\n",
       "Name: NAME_PRODUCT_TYPE, dtype: int64"
      ]
     },
     "execution_count": 28,
     "metadata": {},
     "output_type": "execute_result"
    }
   ],
   "source": [
    "prev_appln_data['NAME_PRODUCT_TYPE'].value_counts()"
   ]
  },
  {
   "cell_type": "code",
   "execution_count": 29,
   "id": "1a13795b-2c19-422a-8b2e-638adfa66ed8",
   "metadata": {},
   "outputs": [
    {
     "data": {
      "text/plain": [
       "Credit and cash offices       719968\n",
       "Country-wide                  494690\n",
       "Stone                         212083\n",
       "Regional / Local              108528\n",
       "Contact center                 71297\n",
       "AP+ (Cash loan)                57046\n",
       "Channel of corporate sales      6150\n",
       "Car dealer                       452\n",
       "Name: CHANNEL_TYPE, dtype: int64"
      ]
     },
     "execution_count": 29,
     "metadata": {},
     "output_type": "execute_result"
    }
   ],
   "source": [
    "prev_appln_data['CHANNEL_TYPE'].value_counts()"
   ]
  },
  {
   "cell_type": "code",
   "execution_count": 30,
   "id": "8b63d8d4-21b1-4ef7-9257-756d63599ea2",
   "metadata": {},
   "outputs": [
    {
     "data": {
      "text/plain": [
       "XNA                     855720\n",
       "Consumer electronics    398265\n",
       "Connectivity            276029\n",
       "Furniture                57849\n",
       "Construction             29781\n",
       "Clothing                 23949\n",
       "Industry                 19194\n",
       "Auto technology           4990\n",
       "Jewelry                   2709\n",
       "MLM partners              1215\n",
       "Tourism                    513\n",
       "Name: NAME_SELLER_INDUSTRY, dtype: int64"
      ]
     },
     "execution_count": 30,
     "metadata": {},
     "output_type": "execute_result"
    }
   ],
   "source": [
    "prev_appln_data['NAME_SELLER_INDUSTRY'].value_counts()"
   ]
  },
  {
   "cell_type": "code",
   "execution_count": 31,
   "id": "449b2e59-1050-4937-8dc9-4d9948bc8bf7",
   "metadata": {},
   "outputs": [
    {
     "data": {
      "text/plain": [
       "XNA           517215\n",
       "middle        385532\n",
       "high          353331\n",
       "low_normal    322095\n",
       "low_action     92041\n",
       "Name: NAME_YIELD_GROUP, dtype: int64"
      ]
     },
     "execution_count": 31,
     "metadata": {},
     "output_type": "execute_result"
    }
   ],
   "source": [
    "prev_appln_data['NAME_YIELD_GROUP'].value_counts()"
   ]
  },
  {
   "cell_type": "code",
   "execution_count": 32,
   "id": "6e5ff174-57b4-474f-99b2-4720490c3985",
   "metadata": {},
   "outputs": [],
   "source": [
    "encoder(prev_appln_data, 'NAME_SELLER_INDUSTRY')\n",
    "encoder(prev_appln_data, 'CHANNEL_TYPE')\n",
    "encoder(prev_appln_data, 'NAME_PRODUCT_TYPE')\n",
    "encoder(prev_appln_data, 'NAME_PORTFOLIO')\n",
    "encoder(prev_appln_data, 'NAME_GOODS_CATEGORY')\n",
    "encoder(prev_appln_data, 'NAME_CLIENT_TYPE')\n",
    "encoder(prev_appln_data, 'CODE_REJECT_REASON')\n",
    "encoder(prev_appln_data, 'NAME_PAYMENT_TYPE')\n",
    "encoder(prev_appln_data, 'NAME_CONTRACT_STATUS')\n",
    "encoder(prev_appln_data, 'WEEKDAY_APPR_PROCESS_START')\n",
    "encoder(prev_appln_data, 'NAME_CONTRACT_TYPE')\n",
    "encoder(prev_appln_data, 'FLAG_LAST_APPL_PER_CONTRACT')\n",
    "encoder(prev_appln_data, 'NAME_CASH_LOAN_PURPOSE')\n",
    "encoder(prev_appln_data, 'NAME_YIELD_GROUP')"
   ]
  },
  {
   "cell_type": "code",
   "execution_count": 33,
   "id": "3d6fb773-44fe-4a4e-bbcb-d495c4d5340b",
   "metadata": {},
   "outputs": [
    {
     "data": {
      "text/plain": [
       "Unnamed: 0                       int64\n",
       "SK_ID_PREV                       int64\n",
       "SK_ID_CURR                       int64\n",
       "NAME_CONTRACT_TYPE               int32\n",
       "AMT_APPLICATION                float64\n",
       "WEEKDAY_APPR_PROCESS_START       int32\n",
       "HOUR_APPR_PROCESS_START          int64\n",
       "FLAG_LAST_APPL_PER_CONTRACT      int32\n",
       "NFLAG_LAST_APPL_IN_DAY           int64\n",
       "NAME_CASH_LOAN_PURPOSE           int32\n",
       "NAME_CONTRACT_STATUS             int32\n",
       "DAYS_DECISION                    int64\n",
       "NAME_PAYMENT_TYPE                int32\n",
       "CODE_REJECT_REASON               int32\n",
       "NAME_CLIENT_TYPE                 int32\n",
       "NAME_GOODS_CATEGORY              int32\n",
       "NAME_PORTFOLIO                   int32\n",
       "NAME_PRODUCT_TYPE                int32\n",
       "CHANNEL_TYPE                     int32\n",
       "SELLERPLACE_AREA                 int64\n",
       "NAME_SELLER_INDUSTRY             int32\n",
       "NAME_YIELD_GROUP                 int32\n",
       "dtype: object"
      ]
     },
     "execution_count": 33,
     "metadata": {},
     "output_type": "execute_result"
    }
   ],
   "source": [
    "prev_appln_data.dtypes"
   ]
  },
  {
   "cell_type": "code",
   "execution_count": 36,
   "id": "6c12c12f-9665-4108-9289-e5ebe4f4e046",
   "metadata": {},
   "outputs": [],
   "source": [
    "appln_data.to_csv(\"appln_data.csv\")\n",
    "prev_appln_data.to_csv(\"prev_appln_data.csv\")"
   ]
  },
  {
   "cell_type": "code",
   "execution_count": null,
   "id": "187a565b-6dcb-4821-ab5c-eed11ec55ec8",
   "metadata": {},
   "outputs": [],
   "source": []
  }
 ],
 "metadata": {
  "kernelspec": {
   "display_name": "Python 3 (ipykernel)",
   "language": "python",
   "name": "python3"
  },
  "language_info": {
   "codemirror_mode": {
    "name": "ipython",
    "version": 3
   },
   "file_extension": ".py",
   "mimetype": "text/x-python",
   "name": "python",
   "nbconvert_exporter": "python",
   "pygments_lexer": "ipython3",
   "version": "3.9.12"
  }
 },
 "nbformat": 4,
 "nbformat_minor": 5
}
